{
 "cells": [
  {
   "cell_type": "code",
   "execution_count": 1,
   "id": "32ac9d79",
   "metadata": {},
   "outputs": [],
   "source": [
    "using DelimitedFiles\n",
    "using PyPlot\n"
   ]
  },
  {
   "cell_type": "code",
   "execution_count": 2,
   "id": "e7da4e7c",
   "metadata": {},
   "outputs": [],
   "source": [
    "# Set path to CSV file\n",
    "path = joinpath(@__DIR__, \"..\", \"data\")\n",
    "csv_path = joinpath(path, \"altermagnet_berry.csv\")\n",
    "\n",
    "# Load data\n",
    "data = readdlm(csv_path, ',', skipstart=1);  # Skip header\n"
   ]
  },
  {
   "cell_type": "code",
   "execution_count": 3,
   "id": "e09fd6f0",
   "metadata": {},
   "outputs": [
    {
     "data": {
      "text/plain": [
       "1000000-element Vector{Float64}:\n",
       " -Inf\n",
       " 280.847\n",
       " 140.109\n",
       "  93.0572\n",
       "  69.4297\n",
       "  55.1739\n",
       "  45.6061\n",
       "  38.7195\n",
       "  33.5108\n",
       "  29.4231\n",
       "   ⋮\n",
       "  33.5108\n",
       "  38.7195\n",
       "  45.6061\n",
       "  55.1739\n",
       "  69.4297\n",
       "  93.0572\n",
       " 140.109\n",
       " 280.847\n",
       " -Inf"
      ]
     },
     "metadata": {},
     "output_type": "display_data"
    }
   ],
   "source": [
    "# Extract columns\n",
    "kx = data[:, 1]\n",
    "ky = data[:, 2]\n",
    "Ω = data[:, 3]\n",
    "Ω2 = data[:, 4]\n",
    "\n"
   ]
  },
  {
   "cell_type": "code",
   "execution_count": 4,
   "id": "48d03426",
   "metadata": {},
   "outputs": [],
   "source": [
    "# Reshape into a 2D grid\n",
    "N = Int(sqrt(length(kx)))  # assumes a square mesh\n",
    "kx_grid = reshape(kx, N, N)\n",
    "ky_grid = reshape(ky, N, N)\n",
    "Ω_grid = reshape(Ω2, N, N);"
   ]
  },
  {
   "cell_type": "code",
   "execution_count": 5,
   "id": "c423b600",
   "metadata": {},
   "outputs": [],
   "source": [
    "# Plot\n",
    "figure(figsize=(6,5))\n",
    "imshow(\n",
    "    Ω_grid',\n",
    "    extent=(minimum(kx), maximum(kx), minimum(ky), maximum(ky)),\n",
    "    vmin=-1,\n",
    "    vmax=1,\n",
    "    origin=\"lower\",\n",
    "    cmap=\"RdBu_r\",  # red-blue colormap\n",
    "    aspect=\"equal\"\n",
    ")\n",
    "\n",
    "colorbar(label=L\"\\Omega(\\mathbf{k})\")\n",
    "xlabel(L\"k_x\")\n",
    "ylabel(L\"k_y\")\n",
    "title(L\"Clipped Berry Curvature: $-1 \\leq \\Omega(\\mathbf{k}) \\leq 1$\")\n",
    "tight_layout()\n",
    "PyPlot.savefig(\"berry_curvature_pyplot.png\", dpi=300)\n"
   ]
  }
 ],
 "metadata": {
  "kernelspec": {
   "display_name": "Julia 1.11.5",
   "language": "julia",
   "name": "julia-1.11"
  },
  "language_info": {
   "file_extension": ".jl",
   "mimetype": "application/julia",
   "name": "julia",
   "version": "1.11.5"
  }
 },
 "nbformat": 4,
 "nbformat_minor": 5
}
