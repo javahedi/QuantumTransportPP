{
 "cells": [
  {
   "cell_type": "code",
   "execution_count": 13,
   "id": "46241708",
   "metadata": {},
   "outputs": [],
   "source": [
    "using DelimitedFiles\n",
    "using PyPlot"
   ]
  },
  {
   "cell_type": "code",
   "execution_count": 17,
   "id": "32ac9d79",
   "metadata": {},
   "outputs": [],
   "source": [
    "\n",
    "\n",
    "# Set path to CSV file\n",
    "path = joinpath(@__DIR__, \"..\", \"data\")\n",
    "figure(figsize=(6,5))\n",
    "\n",
    "# Get Blues colormap\n",
    "cmap = get_cmap(\"Blues\")\n",
    "\n",
    "# Normalize λ values between 0 and 1 for colormap\n",
    "λ_values = 0.0:0.1:0.5\n",
    "norm_λ = (λ_values .- minimum(λ_values)) ./ (maximum(λ_values) - minimum(λ_values))\n",
    "\n",
    "for (i, λ) in enumerate(λ_values)\n",
    "    # Load data for each λ\n",
    "    csv_path = joinpath(path, \"altermagnet_conductivity_Ef0.0_lambda_$(λ).csv\")\n",
    "    data_λ = readdlm(csv_path, ',', skipstart=1)  # Skip header\n",
    "\n",
    "    # Get color from colormap based on normalized λ value\n",
    "    color = cmap(norm_λ[i] * 0.7 + 0.3)  # Adjust scaling to avoid very light colors\n",
    "\n",
    "    # Plot the data with the selected color\n",
    "    plot(data_λ[:, 1], data_λ[:, 4], \n",
    "         color=color, \n",
    "         label=\"λ = $λ\",\n",
    "         linewidth=2)\n",
    "end\n",
    "\n",
    "# Set axis labels\n",
    "xlabel(L\"J[t]\")\n",
    "ylabel(L\"σ_{xy}[e^2/h]\")\n",
    "\n",
    "# Customize ticks to be inside and on both sides\n",
    "gca().tick_params(axis=\"both\", direction=\"in\", which=\"both\")  # Ticks inside for both axes\n",
    "gca().yaxis.set_ticks_position(\"both\")  # Ticks on both left and right\n",
    "gca().xaxis.set_ticks_position(\"both\")  # Ticks on both top and bottom\n",
    "\n",
    "# Add legend and adjust layout\n",
    "legend()\n",
    "tight_layout()\n",
    "\n",
    "# Save the figure\n",
    "PyPlot.savefig(\"altermagnet_conductivity.png\", dpi=300)"
   ]
  }
 ],
 "metadata": {
  "kernelspec": {
   "display_name": "Julia 1.11.5",
   "language": "julia",
   "name": "julia-1.11"
  },
  "language_info": {
   "file_extension": ".jl",
   "mimetype": "application/julia",
   "name": "julia",
   "version": "1.11.5"
  }
 },
 "nbformat": 4,
 "nbformat_minor": 5
}
